{
 "cells": [
  {
   "cell_type": "code",
   "execution_count": 1,
   "metadata": {},
   "outputs": [],
   "source": [
    "# Import the pandas package, then use the \"read_csv\" function to read\n",
    "# the labeled training data\n",
    "import pandas as pd       \n",
    "train = pd.read_csv(\"labeledTrainData.tsv\", header=0, \\\n",
    "                    delimiter=\"\\t\", quoting=3)"
   ]
  },
  {
   "cell_type": "code",
   "execution_count": 2,
   "metadata": {},
   "outputs": [
    {
     "name": "stdout",
     "output_type": "stream",
     "text": [
      "              id  sentiment                                             review\n",
      "0       \"5814_8\"          1  \"With all this stuff going down at the moment ...\n",
      "1       \"2381_9\"          1  \"\\\"The Classic War of the Worlds\\\" by Timothy ...\n",
      "2       \"7759_3\"          0  \"The film starts with a manager (Nicholas Bell...\n",
      "3       \"3630_4\"          0  \"It must be assumed that those who praised thi...\n",
      "4       \"9495_8\"          1  \"Superbly trashy and wondrously unpretentious ...\n",
      "5       \"8196_8\"          1  \"I dont know why people think this is such a b...\n",
      "6       \"7166_2\"          0  \"This movie could have been very good, but com...\n",
      "7      \"10633_1\"          0  \"I watched this video at a friend's house. I'm...\n",
      "8        \"319_1\"          0  \"A friend of mine bought this film for £1, and...\n",
      "9      \"8713_10\"          1  \"<br /><br />This movie is full of references....\n",
      "10      \"2486_3\"          0  \"What happens when an army of wetbacks, towelh...\n",
      "11     \"6811_10\"          1  \"Although I generally do not like remakes beli...\n",
      "12     \"11744_9\"          1  \"\\\"Mr. Harvey Lights a Candle\\\" is anchored by...\n",
      "13      \"7369_1\"          0  \"I had a feeling that after \\\"Submerged\\\", thi...\n",
      "14     \"12081_1\"          0  \"note to George Litman, and others: the Myster...\n",
      "15      \"3561_4\"          0  \"Stephen King adaptation (scripted by King him...\n",
      "16      \"4489_1\"          0  \"`The Matrix' was an exciting summer blockbust...\n",
      "17      \"3951_2\"          0  \"Ulli Lommel's 1980 film 'The Boogey Man' is n...\n",
      "18     \"3304_10\"          1  \"This movie is one among the very few Indian m...\n",
      "19     \"9352_10\"          1  \"Most people, especially young people, may not...\n",
      "20      \"3374_7\"          1  \"\\\"Soylent Green\\\" is one of the best and most...\n",
      "21     \"10782_7\"          1  \"Michael Stearns plays Mike, a sexually frustr...\n",
      "22     \"5414_10\"          1  \"This happy-go-luck 1939 military swashbuckler...\n",
      "23     \"10492_1\"          0  \"I would love to have that two hours of my lif...\n",
      "24      \"3350_3\"          0  \"The script for this movie was probably found ...\n",
      "25      \"6581_7\"          1  \"Looking for Quo Vadis at my local video store...\n",
      "26      \"2203_3\"          0  \"Note to all mad scientists everywhere: if you...\n",
      "27       \"689_1\"          0  \"What the ........... is this ? This must, wit...\n",
      "28      \"9152_1\"          0  \"Intrigued by the synopsis (every gay video th...\n",
      "29      \"6077_1\"          0  \"Would anyone really watch this RUBBISH if it ...\n",
      "...          ...        ...                                                ...\n",
      "24970   \"9389_7\"          1  \"Red Rock West (1993)<br /><br />Nicolas Cage ...\n",
      "24971   \"9251_9\"          1  \"what can i say?, ms Erika Eleniak is my favor...\n",
      "24972  \"1422_10\"          1  \"The spoiler warning is for those people who w...\n",
      "24973   \"7415_2\"          0  \"What do you call a horror story without horro...\n",
      "24974   \"7492_7\"          1  \"Though not a horror film in the traditional s...\n",
      "24975  \"7689_10\"          1  \"This was what black society was like before t...\n",
      "24976  \"12370_4\"          0  \"They probably should have called this movie T...\n",
      "24977   \"5625_8\"          1  \"Attractive Marjorie(Farrah Fawcett)lives in f...\n",
      "24978   \"9397_9\"          1  \"Vaguely reminiscent of great 1940's westerns,...\n",
      "24979   \"5992_7\"          1  \"I admit I had no idea what to expect before v...\n",
      "24980  \"2488_10\"          1  \"To me, the final scene, in which Harris respo...\n",
      "24981  \"9627_10\"          1  \"This is by far the funniest short made by the...\n",
      "24982   \"3822_2\"          0  \"To be a Buster Keaton fan is to have your hea...\n",
      "24983   \"5983_4\"          0  \"I was one of those \\\"few Americans\\\" that gre...\n",
      "24984   \"8021_2\"          0  \"Visually disjointed and full of itself, the d...\n",
      "24985   \"3471_3\"          0  \"this movie had more holes than a piece of swi...\n",
      "24986  \"6034_10\"          1  \"Last November, I had a chance to see this fil...\n",
      "24987   \"1988_9\"          1  \"First off, I'd like to make a correction on a...\n",
      "24988   \"7623_9\"          1  \"While originally reluctant to jump on the ban...\n",
      "24989   \"5974_7\"          1  \"I heard about this movie when watching VH1's ...\n",
      "24990   \"2034_9\"          1  \"I've never been huge on IMAX films. They're c...\n",
      "24991   \"9416_3\"          0  \"Steve McQueen has certainly a lot of loyal fa...\n",
      "24992  \"10994_1\"          0  \"Sometimes you wonder how some people get fund...\n",
      "24993  \"10957_3\"          0  \"I am a student of film, and have been for sev...\n",
      "24994   \"2372_1\"          0  \"Unimaginably stupid, redundant and humiliatin...\n",
      "24995   \"3453_3\"          0  \"It seems like more consideration has gone int...\n",
      "24996   \"5064_1\"          0  \"I don't believe they made this film. Complete...\n",
      "24997  \"10905_3\"          0  \"Guy is a loser. Can't get girls, needs to bui...\n",
      "24998  \"10194_3\"          0  \"This 30 minute documentary Buñuel made in the...\n",
      "24999   \"8478_8\"          1  \"I saw this movie as a child and it broke my h...\n",
      "\n",
      "[25000 rows x 3 columns]\n"
     ]
    }
   ],
   "source": [
    "print(train)"
   ]
  },
  {
   "cell_type": "code",
   "execution_count": 5,
   "metadata": {},
   "outputs": [
    {
     "data": {
      "text/plain": [
       "array(['id', 'sentiment', 'review'], dtype=object)"
      ]
     },
     "execution_count": 5,
     "metadata": {},
     "output_type": "execute_result"
    }
   ],
   "source": [
    "train.columns.values"
   ]
  },
  {
   "cell_type": "code",
   "execution_count": 6,
   "metadata": {},
   "outputs": [
    {
     "name": "stdout",
     "output_type": "stream",
     "text": [
      "\"With all this stuff going down at the moment with MJ i've started listening to his music, watching the odd documentary here and there, watched The Wiz and watched Moonwalker again. Maybe i just want to get a certain insight into this guy who i thought was really cool in the eighties just to maybe make up my mind whether he is guilty or innocent. Moonwalker is part biography, part feature film which i remember going to see at the cinema when it was originally released. Some of it has subtle messages about MJ's feeling towards the press and also the obvious message of drugs are bad m'kay.<br /><br />Visually impressive but of course this is all about Michael Jackson so unless you remotely like MJ in anyway then you are going to hate this and find it boring. Some may call MJ an egotist for consenting to the making of this movie BUT MJ and most of his fans would say that he made it for the fans which if true is really nice of him.<br /><br />The actual feature film bit when it finally starts is only on for 20 minutes or so excluding the Smooth Criminal sequence and Joe Pesci is convincing as a psychopathic all powerful drug lord. Why he wants MJ dead so bad is beyond me. Because MJ overheard his plans? Nah, Joe Pesci's character ranted that he wanted people to know it is he who is supplying drugs etc so i dunno, maybe he just hates MJ's music.<br /><br />Lots of cool things in this like MJ turning into a car and a robot and the whole Speed Demon sequence. Also, the director must have had the patience of a saint when it came to filming the kiddy Bad sequence as usually directors hate working with one kid let alone a whole bunch of them performing a complex dance scene.<br /><br />Bottom line, this movie is for people who like MJ on one level or another (which i think is most people). If not, then stay away. It does try and give off a wholesome message and ironically MJ's bestest buddy in this movie is a girl! Michael Jackson is truly one of the most talented people ever to grace this planet but is he guilty? Well, with all the attention i've gave this subject....hmmm well i don't know because people can be different behind closed doors, i know this for a fact. He is either an extremely nice but stupid guy or one of the most sickest liars. I hope he is not the latter.\"\n"
     ]
    }
   ],
   "source": [
    "print(train[\"review\"][0])"
   ]
  },
  {
   "cell_type": "code",
   "execution_count": 9,
   "metadata": {},
   "outputs": [],
   "source": [
    "from bs4 import BeautifulSoup"
   ]
  },
  {
   "cell_type": "code",
   "execution_count": null,
   "metadata": {},
   "outputs": [],
   "source": [
    "# Initialize the BeautifulSoup object on a single movie review     \n",
    "example1 = BeautifulSoup(train[\"review\"][0])  \n",
    "\n",
    "# Print the raw review and then the output of get_text(), for \n",
    "# comparison\n",
    "print(train[\"review\"][0])\n",
    "print (example1.get_text())"
   ]
  }
 ],
 "metadata": {
  "kernelspec": {
   "display_name": "Python 3",
   "language": "python",
   "name": "python3"
  },
  "language_info": {
   "codemirror_mode": {
    "name": "ipython",
    "version": 3
   },
   "file_extension": ".py",
   "mimetype": "text/x-python",
   "name": "python",
   "nbconvert_exporter": "python",
   "pygments_lexer": "ipython3",
   "version": "3.6.4"
  }
 },
 "nbformat": 4,
 "nbformat_minor": 2
}
